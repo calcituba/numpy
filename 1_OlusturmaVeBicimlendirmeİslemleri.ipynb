{
 "cells": [
  {
   "cell_type": "markdown",
   "id": "cb377e1d-6934-4d8d-a3a7-713de41b8c3d",
   "metadata": {
    "editable": true,
    "slideshow": {
     "slide_type": ""
    },
    "tags": []
   },
   "source": [
    "# Neden NumPy?"
   ]
  },
  {
   "cell_type": "code",
   "execution_count": 16,
   "id": "bb51ac07-d956-46ad-b138-72db65563b8f",
   "metadata": {},
   "outputs": [
    {
     "data": {
      "text/plain": [
       "[1, 2, 3, 4]"
      ]
     },
     "execution_count": 16,
     "metadata": {},
     "output_type": "execute_result"
    }
   ],
   "source": [
    "a = [1,2,3,4]\n",
    "b = [2,3,4,5]\n",
    "a"
   ]
  },
  {
   "cell_type": "code",
   "execution_count": 18,
   "id": "03b36c2d-6219-4121-9d50-01a09ce567cf",
   "metadata": {},
   "outputs": [
    {
     "data": {
      "text/plain": [
       "[2, 3, 4, 5]"
      ]
     },
     "execution_count": 18,
     "metadata": {},
     "output_type": "execute_result"
    }
   ],
   "source": [
    "b"
   ]
  },
  {
   "cell_type": "code",
   "execution_count": 23,
   "id": "704a62f9-89a8-4e44-aa76-f64df67c7079",
   "metadata": {},
   "outputs": [
    {
     "data": {
      "text/plain": [
       "[2, 6, 12, 20]"
      ]
     },
     "execution_count": 23,
     "metadata": {},
     "output_type": "execute_result"
    }
   ],
   "source": [
    "ab = []\n",
    "\n",
    "for i in range(0, len(a)):\n",
    "    ab.append(a[i]*b[i])\n",
    "\n",
    "ab"
   ]
  },
  {
   "cell_type": "code",
   "execution_count": 25,
   "id": "9e55d2e2-7238-4243-b777-8630681f5f8e",
   "metadata": {},
   "outputs": [],
   "source": [
    "import numpy as np"
   ]
  },
  {
   "cell_type": "code",
   "execution_count": 27,
   "id": "ce9ea28b-bc1f-4da6-9177-f1137691c27d",
   "metadata": {},
   "outputs": [],
   "source": [
    "a = np.array([1,2,3,4])\n",
    "b = np.array([2,3,4,5])"
   ]
  },
  {
   "cell_type": "code",
   "execution_count": 29,
   "id": "c93c71d4-0601-4b54-be23-96b238650d72",
   "metadata": {},
   "outputs": [
    {
     "data": {
      "text/plain": [
       "array([ 2,  6, 12, 20])"
      ]
     },
     "execution_count": 29,
     "metadata": {},
     "output_type": "execute_result"
    }
   ],
   "source": [
    "a * b"
   ]
  },
  {
   "cell_type": "markdown",
   "id": "194283b4-bb63-461a-ace6-1ca051b4a1aa",
   "metadata": {},
   "source": []
  },
  {
   "cell_type": "markdown",
   "id": "b61b6b53-23c3-4f4e-8387-1c47945346a5",
   "metadata": {},
   "source": []
  },
  {
   "cell_type": "markdown",
   "id": "a3dacfe4-6675-4611-91cd-cd97769c6a30",
   "metadata": {},
   "source": [
    "# Bir Liste Üzerinden NumPy Array'i Oluşturmak"
   ]
  },
  {
   "cell_type": "code",
   "execution_count": 191,
   "id": "baa18abb-c874-47ef-a056-e45a3ef4f484",
   "metadata": {},
   "outputs": [],
   "source": [
    "import numpy as np"
   ]
  },
  {
   "cell_type": "code",
   "execution_count": 193,
   "id": "812f6151-11fa-488d-8814-274f46fd86ae",
   "metadata": {},
   "outputs": [
    {
     "data": {
      "text/plain": [
       "array([1, 2, 3, 4, 5])"
      ]
     },
     "execution_count": 193,
     "metadata": {},
     "output_type": "execute_result"
    }
   ],
   "source": [
    "np.array([1,2,3,4,5])"
   ]
  },
  {
   "cell_type": "code",
   "execution_count": 195,
   "id": "71130fb0-8120-4af7-aab2-5cef30c2ce78",
   "metadata": {},
   "outputs": [],
   "source": [
    "x = np.array([1,2,3,4,5])"
   ]
  },
  {
   "cell_type": "code",
   "execution_count": 197,
   "id": "1b289606-7726-46fa-8009-c39d9849026f",
   "metadata": {},
   "outputs": [
    {
     "data": {
      "text/plain": [
       "numpy.ndarray"
      ]
     },
     "execution_count": 197,
     "metadata": {},
     "output_type": "execute_result"
    }
   ],
   "source": [
    "type(x)"
   ]
  },
  {
   "cell_type": "code",
   "execution_count": 199,
   "id": "6e1331ce-ace7-42c9-9094-a4932b9d7437",
   "metadata": {},
   "outputs": [
    {
     "data": {
      "text/plain": [
       "array([ 3.14,  4.  ,  2.  , 13.  ])"
      ]
     },
     "execution_count": 199,
     "metadata": {},
     "output_type": "execute_result"
    }
   ],
   "source": [
    "np.array([3.14, 4, 2, 13])"
   ]
  },
  {
   "cell_type": "code",
   "execution_count": 201,
   "id": "87a333ee-65d5-4bd4-8561-bf201c442bdf",
   "metadata": {},
   "outputs": [
    {
     "data": {
      "text/plain": [
       "array([ 3,  4,  2, 13])"
      ]
     },
     "execution_count": 201,
     "metadata": {},
     "output_type": "execute_result"
    }
   ],
   "source": [
    "np.array([3.14, 4, 2, 13], dtype = \"int\")"
   ]
  },
  {
   "cell_type": "markdown",
   "id": "df49bdae-e942-4138-a1ed-1107b4e08750",
   "metadata": {},
   "source": [
    "# Sıfırdan Array Oluşturmak"
   ]
  },
  {
   "cell_type": "code",
   "execution_count": 51,
   "id": "73323934-90f9-4ac2-8887-7af7ab2c7e3f",
   "metadata": {},
   "outputs": [
    {
     "data": {
      "text/plain": [
       "array([0, 0, 0, 0, 0, 0, 0, 0, 0, 0])"
      ]
     },
     "execution_count": 51,
     "metadata": {},
     "output_type": "execute_result"
    }
   ],
   "source": [
    "np.zeros(10, dtype = \"int\")"
   ]
  },
  {
   "cell_type": "code",
   "execution_count": 55,
   "id": "a4fdc703-febb-48b1-adcd-943f42f725ff",
   "metadata": {},
   "outputs": [
    {
     "data": {
      "text/plain": [
       "array([[1, 1, 1, 1, 1],\n",
       "       [1, 1, 1, 1, 1],\n",
       "       [1, 1, 1, 1, 1]])"
      ]
     },
     "execution_count": 55,
     "metadata": {},
     "output_type": "execute_result"
    }
   ],
   "source": [
    "np.ones((3,5), dtype = \"int\")"
   ]
  },
  {
   "cell_type": "code",
   "execution_count": 59,
   "id": "e3da6449-edda-48c2-9b32-c29893200c4d",
   "metadata": {},
   "outputs": [
    {
     "data": {
      "text/plain": [
       "array([[3, 3, 3, 3, 3],\n",
       "       [3, 3, 3, 3, 3],\n",
       "       [3, 3, 3, 3, 3]])"
      ]
     },
     "execution_count": 59,
     "metadata": {},
     "output_type": "execute_result"
    }
   ],
   "source": [
    "np.full((3,5), 3)"
   ]
  },
  {
   "cell_type": "code",
   "execution_count": 63,
   "id": "d3a409c5-ec27-432a-be65-ef52ccace009",
   "metadata": {},
   "outputs": [
    {
     "data": {
      "text/plain": [
       "array([ 0,  3,  6,  9, 12, 15, 18, 21, 24, 27, 30])"
      ]
     },
     "execution_count": 63,
     "metadata": {},
     "output_type": "execute_result"
    }
   ],
   "source": [
    "np.arange(0,33,3)"
   ]
  },
  {
   "cell_type": "code",
   "execution_count": 65,
   "id": "39925a8d-af88-4244-a169-f10368fcef20",
   "metadata": {},
   "outputs": [
    {
     "data": {
      "text/plain": [
       "array([0.        , 0.11111111, 0.22222222, 0.33333333, 0.44444444,\n",
       "       0.55555556, 0.66666667, 0.77777778, 0.88888889, 1.        ])"
      ]
     },
     "execution_count": 65,
     "metadata": {},
     "output_type": "execute_result"
    }
   ],
   "source": [
    "np.linspace(0,1,10)"
   ]
  },
  {
   "cell_type": "code",
   "execution_count": 76,
   "id": "82abd139-5030-4c50-a6cd-2af8d8670300",
   "metadata": {},
   "outputs": [
    {
     "data": {
      "text/plain": [
       "array([[ 6.05591195,  6.74120987, 11.33030685, 12.80816129],\n",
       "       [12.72895789, 11.86671553,  6.26313111,  9.0754243 ],\n",
       "       [11.24119554,  9.7765757 , 10.60304889, 14.12833546]])"
      ]
     },
     "execution_count": 76,
     "metadata": {},
     "output_type": "execute_result"
    }
   ],
   "source": [
    "np.random.normal(10,3,(3,4))"
   ]
  },
  {
   "cell_type": "code",
   "execution_count": 78,
   "id": "6a9c4913-856a-4290-a7c6-9ea73dee49c6",
   "metadata": {},
   "outputs": [
    {
     "data": {
      "text/plain": [
       "array([[7, 7, 3],\n",
       "       [3, 6, 2],\n",
       "       [9, 4, 0]])"
      ]
     },
     "execution_count": 78,
     "metadata": {},
     "output_type": "execute_result"
    }
   ],
   "source": [
    "np.random.randint(0,10, (3,3))"
   ]
  },
  {
   "cell_type": "markdown",
   "id": "b32732f9-4b03-4c34-857e-23c055fb195d",
   "metadata": {},
   "source": []
  },
  {
   "cell_type": "markdown",
   "id": "8d9a7c7e-08ea-455b-814f-a6d9a1efddb1",
   "metadata": {},
   "source": []
  },
  {
   "cell_type": "markdown",
   "id": "72b42899-7f10-45a3-bdce-f60eb8b6e9be",
   "metadata": {},
   "source": [
    "# NumPy Array Özellikleri"
   ]
  },
  {
   "cell_type": "markdown",
   "id": "20868a48-01b0-4346-8c10-675c400c47c8",
   "metadata": {},
   "source": [
    "* ndim: boyut sayısı\n",
    "* shape: boyut bilgisi\n",
    "* size: toplam eleman sayısı\n",
    "* dtype: array veri tipi"
   ]
  },
  {
   "cell_type": "code",
   "execution_count": 4,
   "id": "a4705142-bf89-46ec-ae4b-142317f899e6",
   "metadata": {},
   "outputs": [],
   "source": [
    "import numpy as np"
   ]
  },
  {
   "cell_type": "code",
   "execution_count": 6,
   "id": "0e2610ea-8ae0-4b84-8378-489fe40dcd83",
   "metadata": {},
   "outputs": [
    {
     "data": {
      "text/plain": [
       "array([0, 9, 1, 8, 3, 3, 0, 6, 2, 8])"
      ]
     },
     "execution_count": 6,
     "metadata": {},
     "output_type": "execute_result"
    }
   ],
   "source": [
    "np.random.randint(10, size = 10)"
   ]
  },
  {
   "cell_type": "code",
   "execution_count": 8,
   "id": "1ab729cc-7b7f-4623-8eac-7b9b4be8f6e9",
   "metadata": {},
   "outputs": [
    {
     "data": {
      "text/plain": [
       "array([1, 2, 6, 7, 0, 0, 1, 8, 6, 4])"
      ]
     },
     "execution_count": 8,
     "metadata": {},
     "output_type": "execute_result"
    }
   ],
   "source": [
    "k = np.random.randint(10, size = 10)\n",
    "k"
   ]
  },
  {
   "cell_type": "code",
   "execution_count": 229,
   "id": "50875322-79cb-4890-b6d8-91a92b9eaa21",
   "metadata": {},
   "outputs": [
    {
     "data": {
      "text/plain": [
       "1"
      ]
     },
     "execution_count": 229,
     "metadata": {},
     "output_type": "execute_result"
    }
   ],
   "source": [
    "k.ndim"
   ]
  },
  {
   "cell_type": "code",
   "execution_count": 231,
   "id": "4673f672-705c-4117-b455-70f2bdfbbce0",
   "metadata": {},
   "outputs": [
    {
     "data": {
      "text/plain": [
       "(10,)"
      ]
     },
     "execution_count": 231,
     "metadata": {},
     "output_type": "execute_result"
    }
   ],
   "source": [
    "k.shape"
   ]
  },
  {
   "cell_type": "code",
   "execution_count": 233,
   "id": "2915332f-e1ab-412b-b4d2-4a949c00df5d",
   "metadata": {},
   "outputs": [
    {
     "data": {
      "text/plain": [
       "10"
      ]
     },
     "execution_count": 233,
     "metadata": {},
     "output_type": "execute_result"
    }
   ],
   "source": [
    "k.size"
   ]
  },
  {
   "cell_type": "code",
   "execution_count": 235,
   "id": "01937c45-ce57-4b53-a65a-6ed4758025df",
   "metadata": {},
   "outputs": [
    {
     "data": {
      "text/plain": [
       "dtype('int32')"
      ]
     },
     "execution_count": 235,
     "metadata": {},
     "output_type": "execute_result"
    }
   ],
   "source": [
    "k.dtype"
   ]
  },
  {
   "cell_type": "code",
   "execution_count": 237,
   "id": "8bd93f97-214b-4c34-ae8d-15358504b9a0",
   "metadata": {},
   "outputs": [],
   "source": [
    "l = np.random.randint(10, size = (3,5))"
   ]
  },
  {
   "cell_type": "code",
   "execution_count": 239,
   "id": "cf90416b-6802-4e53-b6f7-0ed204abfa37",
   "metadata": {},
   "outputs": [
    {
     "data": {
      "text/plain": [
       "array([[9, 5, 1, 3, 8],\n",
       "       [9, 2, 9, 1, 4],\n",
       "       [2, 7, 4, 0, 4]])"
      ]
     },
     "execution_count": 239,
     "metadata": {},
     "output_type": "execute_result"
    }
   ],
   "source": [
    "l"
   ]
  },
  {
   "cell_type": "code",
   "execution_count": 241,
   "id": "1bc4a69d-225f-4e97-88c3-ffe9231403d0",
   "metadata": {},
   "outputs": [
    {
     "data": {
      "text/plain": [
       "2"
      ]
     },
     "execution_count": 241,
     "metadata": {},
     "output_type": "execute_result"
    }
   ],
   "source": [
    "l.ndim"
   ]
  },
  {
   "cell_type": "code",
   "execution_count": 243,
   "id": "31be4b38-d8ba-41a8-ac9d-4756d33bca2e",
   "metadata": {},
   "outputs": [
    {
     "data": {
      "text/plain": [
       "(3, 5)"
      ]
     },
     "execution_count": 243,
     "metadata": {},
     "output_type": "execute_result"
    }
   ],
   "source": [
    "l.shape"
   ]
  },
  {
   "cell_type": "code",
   "execution_count": 245,
   "id": "71763b50-c1b2-413b-9bf4-06f74bf74191",
   "metadata": {},
   "outputs": [
    {
     "data": {
      "text/plain": [
       "15"
      ]
     },
     "execution_count": 245,
     "metadata": {},
     "output_type": "execute_result"
    }
   ],
   "source": [
    "l.size"
   ]
  },
  {
   "cell_type": "code",
   "execution_count": 247,
   "id": "6862f19b-a253-4167-8fb9-c7e7fe922404",
   "metadata": {},
   "outputs": [
    {
     "data": {
      "text/plain": [
       "dtype('int32')"
      ]
     },
     "execution_count": 247,
     "metadata": {},
     "output_type": "execute_result"
    }
   ],
   "source": [
    "b.dtype"
   ]
  },
  {
   "cell_type": "markdown",
   "id": "8718026a-82a5-4ece-8036-091afbe34d07",
   "metadata": {},
   "source": []
  },
  {
   "cell_type": "markdown",
   "id": "9e25eea6-ea89-4bff-9f32-edb606342fd9",
   "metadata": {},
   "source": []
  },
  {
   "cell_type": "markdown",
   "id": "784b73aa-5bc5-4b6f-b574-48525c5c248d",
   "metadata": {},
   "source": [
    "# Yeniden Şekillendirme (Reshaping)"
   ]
  },
  {
   "cell_type": "code",
   "execution_count": 30,
   "id": "8705b14a-99b9-4086-9c3d-31f793fdfb97",
   "metadata": {},
   "outputs": [],
   "source": [
    "import numpy as np"
   ]
  },
  {
   "cell_type": "code",
   "execution_count": 32,
   "id": "72b7f906-8804-4d78-a891-3ccdb81df3ea",
   "metadata": {},
   "outputs": [
    {
     "data": {
      "text/plain": [
       "array([1, 2, 3, 4, 5, 6, 7, 8, 9])"
      ]
     },
     "execution_count": 32,
     "metadata": {},
     "output_type": "execute_result"
    }
   ],
   "source": [
    "np.arange(1,10)"
   ]
  },
  {
   "cell_type": "code",
   "execution_count": 34,
   "id": "6a92fd5e-fb40-4a4f-8890-57c4800eadc4",
   "metadata": {},
   "outputs": [
    {
     "data": {
      "text/plain": [
       "array([[1, 2, 3],\n",
       "       [4, 5, 6],\n",
       "       [7, 8, 9]])"
      ]
     },
     "execution_count": 34,
     "metadata": {},
     "output_type": "execute_result"
    }
   ],
   "source": [
    "np.arange(1,10).reshape((3,3))"
   ]
  },
  {
   "cell_type": "code",
   "execution_count": 35,
   "id": "5af15b6a-332b-41a7-b2f0-cd4f433a2c37",
   "metadata": {},
   "outputs": [],
   "source": [
    "c = np.arange(1,10)"
   ]
  },
  {
   "cell_type": "code",
   "execution_count": 37,
   "id": "36990f01-ecd0-4d0c-a013-a10ce8734f96",
   "metadata": {},
   "outputs": [
    {
     "data": {
      "text/plain": [
       "array([1, 2, 3, 4, 5, 6, 7, 8, 9])"
      ]
     },
     "execution_count": 37,
     "metadata": {},
     "output_type": "execute_result"
    }
   ],
   "source": [
    "c"
   ]
  },
  {
   "cell_type": "code",
   "execution_count": 39,
   "id": "239a289d-fdc6-442a-bab8-5c64ed2c6f15",
   "metadata": {},
   "outputs": [
    {
     "data": {
      "text/plain": [
       "1"
      ]
     },
     "execution_count": 39,
     "metadata": {},
     "output_type": "execute_result"
    }
   ],
   "source": [
    "c.ndim"
   ]
  },
  {
   "cell_type": "code",
   "execution_count": 41,
   "id": "41203637-e1b9-46d3-b8de-fbcd920fa584",
   "metadata": {},
   "outputs": [],
   "source": [
    "d = c.reshape((1,9))"
   ]
  },
  {
   "cell_type": "code",
   "execution_count": 43,
   "id": "5f7c453d-8fd6-4281-8706-e3fb81e52225",
   "metadata": {},
   "outputs": [
    {
     "data": {
      "text/plain": [
       "array([[1, 2, 3, 4, 5, 6, 7, 8, 9]])"
      ]
     },
     "execution_count": 43,
     "metadata": {},
     "output_type": "execute_result"
    }
   ],
   "source": [
    "d"
   ]
  },
  {
   "cell_type": "code",
   "execution_count": 44,
   "id": "8798bf77-5016-4548-8f53-8b6170ca3a5e",
   "metadata": {},
   "outputs": [
    {
     "data": {
      "text/plain": [
       "2"
      ]
     },
     "execution_count": 44,
     "metadata": {},
     "output_type": "execute_result"
    }
   ],
   "source": [
    "d.ndim"
   ]
  },
  {
   "cell_type": "markdown",
   "id": "87c67eb3-3acb-40db-acb9-a3516b717782",
   "metadata": {},
   "source": []
  },
  {
   "cell_type": "markdown",
   "id": "3a8f4e67-95a1-4981-9086-cedcae8ddb93",
   "metadata": {},
   "source": []
  },
  {
   "cell_type": "markdown",
   "id": "b7ac7200-ad34-436f-bee0-a23b9eaf1652",
   "metadata": {},
   "source": [
    "# Birleştirme (Concantenation)"
   ]
  },
  {
   "cell_type": "code",
   "execution_count": 49,
   "id": "b4e568ff-1725-4179-98c0-3b8accb4f809",
   "metadata": {},
   "outputs": [],
   "source": [
    "import numpy as np"
   ]
  },
  {
   "cell_type": "code",
   "execution_count": 50,
   "id": "aa9e256d-b788-4ab3-985f-0cb48bfc5ec7",
   "metadata": {},
   "outputs": [],
   "source": [
    "p = np.array([1,2,3])"
   ]
  },
  {
   "cell_type": "code",
   "execution_count": 52,
   "id": "1c8cc70e-a49e-4650-bfe8-d14055ff5e64",
   "metadata": {},
   "outputs": [],
   "source": [
    "r = np.array([4,5,6])"
   ]
  },
  {
   "cell_type": "code",
   "execution_count": 54,
   "id": "56ed8eab-b165-4723-aab3-44692c2ce6e8",
   "metadata": {},
   "outputs": [
    {
     "data": {
      "text/plain": [
       "array([1, 2, 3, 4, 5, 6])"
      ]
     },
     "execution_count": 54,
     "metadata": {},
     "output_type": "execute_result"
    }
   ],
   "source": [
    "np.concatenate([p,r])"
   ]
  },
  {
   "cell_type": "code",
   "execution_count": 56,
   "id": "fc5fce9e-1377-4f10-88d9-7cd0054f2903",
   "metadata": {},
   "outputs": [],
   "source": [
    "s = np.array([7,8,9])"
   ]
  },
  {
   "cell_type": "code",
   "execution_count": 59,
   "id": "1016c9f7-c606-4db4-94d6-561339ee4b27",
   "metadata": {},
   "outputs": [
    {
     "data": {
      "text/plain": [
       "array([1, 2, 3, 4, 5, 6, 7, 8, 9])"
      ]
     },
     "execution_count": 59,
     "metadata": {},
     "output_type": "execute_result"
    }
   ],
   "source": [
    "np.concatenate([p,r,s])"
   ]
  },
  {
   "cell_type": "markdown",
   "id": "38a87534-2b09-44ae-b967-b112b7a7f17f",
   "metadata": {},
   "source": [
    "# 2 Boyut üzerinden yapmak için:"
   ]
  },
  {
   "cell_type": "code",
   "execution_count": 62,
   "id": "efa06fbc-2046-40e4-a136-3a8a9453eb84",
   "metadata": {},
   "outputs": [],
   "source": [
    "h = np.array([[1,2,3],\n",
    "              [4,5,6]])"
   ]
  },
  {
   "cell_type": "code",
   "execution_count": 63,
   "id": "2a2e86c6-b9e9-4d6b-a694-fce7ee9bbc06",
   "metadata": {},
   "outputs": [
    {
     "data": {
      "text/plain": [
       "array([[1, 2, 3],\n",
       "       [4, 5, 6],\n",
       "       [1, 2, 3],\n",
       "       [4, 5, 6]])"
      ]
     },
     "execution_count": 63,
     "metadata": {},
     "output_type": "execute_result"
    }
   ],
   "source": [
    "np.concatenate([h,h])"
   ]
  },
  {
   "cell_type": "markdown",
   "id": "9d5c2ced-594c-41a3-9a9b-80846aaaec34",
   "metadata": {},
   "source": [
    "# Sütun bazında birleştirmek için"
   ]
  },
  {
   "cell_type": "code",
   "execution_count": 66,
   "id": "f092e5b3-842c-4d25-934d-839ce26f52a2",
   "metadata": {},
   "outputs": [
    {
     "data": {
      "text/plain": [
       "array([[1, 2, 3, 1, 2, 3],\n",
       "       [4, 5, 6, 4, 5, 6]])"
      ]
     },
     "execution_count": 66,
     "metadata": {},
     "output_type": "execute_result"
    }
   ],
   "source": [
    "np.concatenate([h,h], axis = 1)"
   ]
  },
  {
   "cell_type": "markdown",
   "id": "f6cad6ba-44e6-4f4b-813e-bf87ca183e20",
   "metadata": {},
   "source": []
  },
  {
   "cell_type": "markdown",
   "id": "59235c67-2437-4b04-9251-0b92e933704a",
   "metadata": {},
   "source": []
  },
  {
   "cell_type": "markdown",
   "id": "0809dadf-fb2d-4146-8927-23b52f5d0c51",
   "metadata": {},
   "source": [
    "# Array Ayırma (Splitting)"
   ]
  },
  {
   "cell_type": "code",
   "execution_count": 305,
   "id": "c0e68170-803f-4825-be09-7d858cbe9db8",
   "metadata": {},
   "outputs": [],
   "source": [
    "import numpy as np"
   ]
  },
  {
   "cell_type": "code",
   "execution_count": 309,
   "id": "88005ef5-2b4f-427d-ade6-044ab8bfb5c8",
   "metadata": {},
   "outputs": [],
   "source": [
    "g = np.array([1,2,3,99,99,3,2,1])"
   ]
  },
  {
   "cell_type": "code",
   "execution_count": 311,
   "id": "a6ce698d-71da-4ed3-ad71-54c50442dbf3",
   "metadata": {},
   "outputs": [
    {
     "data": {
      "text/plain": [
       "[array([1, 2, 3]), array([99, 99]), array([3, 2, 1])]"
      ]
     },
     "execution_count": 311,
     "metadata": {},
     "output_type": "execute_result"
    }
   ],
   "source": [
    "np.split(g, [3,5]) # 3,5 ayırmak için index no belirtiyor"
   ]
  },
  {
   "cell_type": "code",
   "execution_count": 313,
   "id": "dbbcb337-a232-46de-bb33-c74b744f62c9",
   "metadata": {},
   "outputs": [],
   "source": [
    "a, b, c = np.split(g, [3,5]) # ayırma işleminden sonra atama yapıyoruz"
   ]
  },
  {
   "cell_type": "code",
   "execution_count": 315,
   "id": "3932c046-79af-4cd8-aaa2-ea2909895336",
   "metadata": {},
   "outputs": [
    {
     "data": {
      "text/plain": [
       "array([1, 2, 3])"
      ]
     },
     "execution_count": 315,
     "metadata": {},
     "output_type": "execute_result"
    }
   ],
   "source": [
    "a"
   ]
  },
  {
   "cell_type": "code",
   "execution_count": 317,
   "id": "62d6f654-4433-409b-8c04-ebc1df763f54",
   "metadata": {},
   "outputs": [
    {
     "data": {
      "text/plain": [
       "array([99, 99])"
      ]
     },
     "execution_count": 317,
     "metadata": {},
     "output_type": "execute_result"
    }
   ],
   "source": [
    "b"
   ]
  },
  {
   "cell_type": "code",
   "execution_count": 319,
   "id": "71b31fbc-afc0-4aa2-8c19-e66650d0670a",
   "metadata": {},
   "outputs": [
    {
     "data": {
      "text/plain": [
       "array([3, 2, 1])"
      ]
     },
     "execution_count": 319,
     "metadata": {},
     "output_type": "execute_result"
    }
   ],
   "source": [
    "c"
   ]
  },
  {
   "cell_type": "markdown",
   "id": "5759842a-f662-42ab-9955-7c77316306c8",
   "metadata": {},
   "source": [
    "# İki Boyutlu Ayırma"
   ]
  },
  {
   "cell_type": "code",
   "execution_count": 322,
   "id": "97c27561-a5f0-4d7a-8559-a1e7d371818e",
   "metadata": {},
   "outputs": [
    {
     "data": {
      "text/plain": [
       "array([[ 0,  1,  2,  3],\n",
       "       [ 4,  5,  6,  7],\n",
       "       [ 8,  9, 10, 11],\n",
       "       [12, 13, 14, 15]])"
      ]
     },
     "execution_count": 322,
     "metadata": {},
     "output_type": "execute_result"
    }
   ],
   "source": [
    "v = np.arange(16).reshape(4,4)\n",
    "v"
   ]
  },
  {
   "cell_type": "code",
   "execution_count": 324,
   "id": "89dd975e-a369-4e5e-9d2f-b27efdd31615",
   "metadata": {},
   "outputs": [
    {
     "data": {
      "text/plain": [
       "[array([[0, 1, 2, 3],\n",
       "        [4, 5, 6, 7]]),\n",
       " array([[ 8,  9, 10, 11],\n",
       "        [12, 13, 14, 15]])]"
      ]
     },
     "execution_count": 324,
     "metadata": {},
     "output_type": "execute_result"
    }
   ],
   "source": [
    "np.vsplit(v, [2]) # dikey şekilde "
   ]
  },
  {
   "cell_type": "code",
   "execution_count": 326,
   "id": "81e01207-7e7c-4cb1-a56d-b6408812e8bd",
   "metadata": {},
   "outputs": [],
   "source": [
    "ust, alt = np.vsplit(v, [2])"
   ]
  },
  {
   "cell_type": "code",
   "execution_count": 328,
   "id": "af34a9c6-1738-4c5d-8f8a-3350f728f43a",
   "metadata": {},
   "outputs": [
    {
     "data": {
      "text/plain": [
       "array([[0, 1, 2, 3],\n",
       "       [4, 5, 6, 7]])"
      ]
     },
     "execution_count": 328,
     "metadata": {},
     "output_type": "execute_result"
    }
   ],
   "source": [
    "ust"
   ]
  },
  {
   "cell_type": "code",
   "execution_count": 330,
   "id": "b81cdeca-c0f9-4ca7-8cd0-b34c5f1594b1",
   "metadata": {},
   "outputs": [
    {
     "data": {
      "text/plain": [
       "array([[ 8,  9, 10, 11],\n",
       "       [12, 13, 14, 15]])"
      ]
     },
     "execution_count": 330,
     "metadata": {},
     "output_type": "execute_result"
    }
   ],
   "source": [
    "alt"
   ]
  },
  {
   "cell_type": "code",
   "execution_count": 336,
   "id": "d9e4b530-d612-4684-be5d-d7063957abba",
   "metadata": {},
   "outputs": [
    {
     "data": {
      "text/plain": [
       "array([[ 0,  1,  2,  3],\n",
       "       [ 4,  5,  6,  7],\n",
       "       [ 8,  9, 10, 11],\n",
       "       [12, 13, 14, 15]])"
      ]
     },
     "execution_count": 336,
     "metadata": {},
     "output_type": "execute_result"
    }
   ],
   "source": [
    "v"
   ]
  },
  {
   "cell_type": "code",
   "execution_count": 344,
   "id": "0e6cd1b4-a501-4f95-b7aa-0e9fe7285c2d",
   "metadata": {},
   "outputs": [
    {
     "data": {
      "text/plain": [
       "[array([[ 0,  1],\n",
       "        [ 4,  5],\n",
       "        [ 8,  9],\n",
       "        [12, 13]]),\n",
       " array([[ 2,  3],\n",
       "        [ 6,  7],\n",
       "        [10, 11],\n",
       "        [14, 15]])]"
      ]
     },
     "execution_count": 344,
     "metadata": {},
     "output_type": "execute_result"
    }
   ],
   "source": [
    "np.hsplit(v, [2]) # yatay şekilde"
   ]
  },
  {
   "cell_type": "code",
   "execution_count": 346,
   "id": "18c87d32-d6ac-4688-a236-451b219643f7",
   "metadata": {},
   "outputs": [],
   "source": [
    "sag, sol = np.hsplit(v, [2])"
   ]
  },
  {
   "cell_type": "code",
   "execution_count": 348,
   "id": "fc8f890c-dd3d-46e8-9db1-8b885bc3dd3e",
   "metadata": {},
   "outputs": [
    {
     "data": {
      "text/plain": [
       "array([[ 0,  1],\n",
       "       [ 4,  5],\n",
       "       [ 8,  9],\n",
       "       [12, 13]])"
      ]
     },
     "execution_count": 348,
     "metadata": {},
     "output_type": "execute_result"
    }
   ],
   "source": [
    "sag"
   ]
  },
  {
   "cell_type": "code",
   "execution_count": 350,
   "id": "6b39b6c6-ccc1-45a7-80e6-0bdc865248d3",
   "metadata": {},
   "outputs": [
    {
     "data": {
      "text/plain": [
       "array([[ 2,  3],\n",
       "       [ 6,  7],\n",
       "       [10, 11],\n",
       "       [14, 15]])"
      ]
     },
     "execution_count": 350,
     "metadata": {},
     "output_type": "execute_result"
    }
   ],
   "source": [
    "sol"
   ]
  },
  {
   "cell_type": "code",
   "execution_count": null,
   "id": "4ec3bc8e-45c3-4e51-8ecc-1a5c06692c49",
   "metadata": {},
   "outputs": [],
   "source": []
  },
  {
   "cell_type": "code",
   "execution_count": null,
   "id": "fbe2af96-71c4-4a6a-9ee5-d9173d44ab8f",
   "metadata": {},
   "outputs": [],
   "source": []
  },
  {
   "cell_type": "markdown",
   "id": "5c4f6b18-8bd5-4536-8465-fa9753f28913",
   "metadata": {},
   "source": [
    "# Sıralama (Sorting)"
   ]
  },
  {
   "cell_type": "code",
   "execution_count": 355,
   "id": "bf1fc99e-8173-4be0-a051-083a207e2053",
   "metadata": {},
   "outputs": [],
   "source": [
    "import numpy as np"
   ]
  },
  {
   "cell_type": "code",
   "execution_count": 357,
   "id": "dd6c9011-66ca-4eec-adc5-f3c92d40448c",
   "metadata": {},
   "outputs": [],
   "source": [
    "t = np.array([2,1,4,3,5])"
   ]
  },
  {
   "cell_type": "code",
   "execution_count": 359,
   "id": "d8fc022f-749e-4375-b327-27e383a17441",
   "metadata": {},
   "outputs": [
    {
     "data": {
      "text/plain": [
       "array([2, 1, 4, 3, 5])"
      ]
     },
     "execution_count": 359,
     "metadata": {},
     "output_type": "execute_result"
    }
   ],
   "source": [
    "t"
   ]
  },
  {
   "cell_type": "code",
   "execution_count": 361,
   "id": "20f73c94-32c2-458b-8791-a4f80358cfc9",
   "metadata": {},
   "outputs": [
    {
     "data": {
      "text/plain": [
       "array([1, 2, 3, 4, 5])"
      ]
     },
     "execution_count": 361,
     "metadata": {},
     "output_type": "execute_result"
    }
   ],
   "source": [
    "np.sort(t) # orijinal yapı bozulmaz"
   ]
  },
  {
   "cell_type": "code",
   "execution_count": 363,
   "id": "da3a6fb5-d8f8-4eb2-aed6-f4626bd96270",
   "metadata": {},
   "outputs": [
    {
     "data": {
      "text/plain": [
       "array([2, 1, 4, 3, 5])"
      ]
     },
     "execution_count": 363,
     "metadata": {},
     "output_type": "execute_result"
    }
   ],
   "source": [
    "t"
   ]
  },
  {
   "cell_type": "code",
   "execution_count": 365,
   "id": "4d2cd1a8-d572-498a-8162-fe03a98ad70b",
   "metadata": {},
   "outputs": [],
   "source": [
    "t.sort() # yapıyı bozar"
   ]
  },
  {
   "cell_type": "code",
   "execution_count": 367,
   "id": "76f28704-118d-4edd-8594-40bd4a3d50bf",
   "metadata": {},
   "outputs": [
    {
     "data": {
      "text/plain": [
       "array([1, 2, 3, 4, 5])"
      ]
     },
     "execution_count": 367,
     "metadata": {},
     "output_type": "execute_result"
    }
   ],
   "source": [
    "t"
   ]
  },
  {
   "cell_type": "markdown",
   "id": "c3a1198f-bf93-4298-a1cd-83a433837b50",
   "metadata": {},
   "source": [
    "# İki Boyutlu Array Sıralama"
   ]
  },
  {
   "cell_type": "code",
   "execution_count": 370,
   "id": "bc8aec14-0f75-49a5-b115-8a9380d3ea9d",
   "metadata": {},
   "outputs": [],
   "source": [
    "n = np.random.normal(20,5, (3,3))"
   ]
  },
  {
   "cell_type": "code",
   "execution_count": 372,
   "id": "992864d3-e76e-480f-bb42-bd02433c7c41",
   "metadata": {},
   "outputs": [
    {
     "data": {
      "text/plain": [
       "array([[ 8.01147434, 23.2952023 , 23.27891357],\n",
       "       [31.65353117, 17.54647467, 16.14461731],\n",
       "       [19.39748397, 14.35098927, 17.0639903 ]])"
      ]
     },
     "execution_count": 372,
     "metadata": {},
     "output_type": "execute_result"
    }
   ],
   "source": [
    "n"
   ]
  },
  {
   "cell_type": "code",
   "execution_count": 374,
   "id": "d83d5782-998f-4bb8-8412-b5f36820e62e",
   "metadata": {},
   "outputs": [
    {
     "data": {
      "text/plain": [
       "array([[ 8.01147434, 23.27891357, 23.2952023 ],\n",
       "       [16.14461731, 17.54647467, 31.65353117],\n",
       "       [14.35098927, 17.0639903 , 19.39748397]])"
      ]
     },
     "execution_count": 374,
     "metadata": {},
     "output_type": "execute_result"
    }
   ],
   "source": [
    "np.sort(n, axis = 1) # satırları sıralamak"
   ]
  },
  {
   "cell_type": "code",
   "execution_count": 376,
   "id": "6e84d26b-8549-4e1d-9ae2-28c1f65f2d9c",
   "metadata": {},
   "outputs": [
    {
     "data": {
      "text/plain": [
       "array([[ 8.01147434, 14.35098927, 16.14461731],\n",
       "       [19.39748397, 17.54647467, 17.0639903 ],\n",
       "       [31.65353117, 23.2952023 , 23.27891357]])"
      ]
     },
     "execution_count": 376,
     "metadata": {},
     "output_type": "execute_result"
    }
   ],
   "source": [
    "np.sort(n, axis = 0) # sütunları sıralamak"
   ]
  },
  {
   "cell_type": "code",
   "execution_count": null,
   "id": "63dbab05-9b05-4a6d-8818-5cfc110061e4",
   "metadata": {},
   "outputs": [],
   "source": []
  }
 ],
 "metadata": {
  "kernelspec": {
   "display_name": "Python 3 (ipykernel)",
   "language": "python",
   "name": "python3"
  },
  "language_info": {
   "codemirror_mode": {
    "name": "ipython",
    "version": 3
   },
   "file_extension": ".py",
   "mimetype": "text/x-python",
   "name": "python",
   "nbconvert_exporter": "python",
   "pygments_lexer": "ipython3",
   "version": "3.12.4"
  }
 },
 "nbformat": 4,
 "nbformat_minor": 5
}
