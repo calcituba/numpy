{
 "cells": [
  {
   "cell_type": "code",
   "execution_count": 7,
   "id": "61c90e21-79f3-40b7-adef-b46c02229152",
   "metadata": {},
   "outputs": [],
   "source": [
    "import numpy as np"
   ]
  },
  {
   "cell_type": "markdown",
   "id": "e4247404-f13d-4ea7-ab13-8dd4b5cf7996",
   "metadata": {},
   "source": [
    "## Soru 1"
   ]
  },
  {
   "cell_type": "markdown",
   "id": "a52bb02a-b847-4296-9c73-66c2b0683c9c",
   "metadata": {},
   "source": [
    "Aşağıda \"m\" ismindeki bir array'in çıktısı verilmiştir. Buna göre yazılan kodun çıktısı nedir?\r\n",
    "\r\n",
    "Çıktı:\r\n",
    "\r\n",
    "array([[0, 1, 2],\r\n",
    "       [3, 4, 5],\r\n",
    "       [6, 7, 8]])\r\n",
    "\r\n",
    "Kod:\r\n",
    "\r\n",
    "m[0, [1,2]]"
   ]
  },
  {
   "cell_type": "markdown",
   "id": "cb32955c-75a6-4d8d-9d81-179b2fd727d6",
   "metadata": {},
   "source": [
    "### Çözüm"
   ]
  },
  {
   "cell_type": "code",
   "execution_count": 12,
   "id": "ae8a753d-d0ae-4653-be71-b136a6260817",
   "metadata": {},
   "outputs": [
    {
     "data": {
      "text/plain": [
       "array([[0, 1, 2],\n",
       "       [3, 4, 5],\n",
       "       [6, 7, 8]])"
      ]
     },
     "execution_count": 12,
     "metadata": {},
     "output_type": "execute_result"
    }
   ],
   "source": [
    "m = np.arange(9).reshape(3,3)\n",
    "m"
   ]
  },
  {
   "cell_type": "code",
   "execution_count": 14,
   "id": "2f9a9110-8ea6-4fa7-bbea-1ed2fb41346b",
   "metadata": {},
   "outputs": [
    {
     "data": {
      "text/plain": [
       "array([1, 2])"
      ]
     },
     "execution_count": 14,
     "metadata": {},
     "output_type": "execute_result"
    }
   ],
   "source": [
    "m[0, [1,2]]"
   ]
  },
  {
   "cell_type": "code",
   "execution_count": 16,
   "id": "dbceb4b8-6adb-4846-86ce-7b27d8416619",
   "metadata": {},
   "outputs": [],
   "source": [
    "# Kodda m[0, [1,2]] ifadesi, m array'inin 0. satırında, 1. ve 2. sütunlardaki değerleri seçmek anlamına gelir."
   ]
  },
  {
   "cell_type": "markdown",
   "id": "7f10f8da-58b4-4cfa-b6bd-346cad7ecbff",
   "metadata": {},
   "source": [
    "----------------------------------------------------------------------------------------------------------------"
   ]
  },
  {
   "cell_type": "markdown",
   "id": "62f36509-05b6-43a6-88c1-2f736248ff20",
   "metadata": {},
   "source": [
    "# Soru 2"
   ]
  },
  {
   "cell_type": "markdown",
   "id": "19edfa75-e50e-45f1-8bb4-714124939d15",
   "metadata": {},
   "source": [
    "Aşağıda \"a\" ismindeki bir array'in çıktısı verilmiştir. Buna göre yazılan kodun çıktısı nedir?\n",
    "\n",
    "Çıktı:\n",
    "\n",
    "array([[4, 7, 4, 5, 9],\n",
    "            [2, 5, 0, 7, 7],\n",
    "            [1, 9, 0, 8, 2]])\n",
    "\n",
    "Kod:\n",
    "\n",
    "a[:2, :3]"
   ]
  },
  {
   "cell_type": "code",
   "execution_count": null,
   "id": "5b71b3c9-8223-499c-9705-a2a1b0dcd9d5",
   "metadata": {},
   "outputs": [],
   "source": [
    "# -- Kodda a[:2, :3] ifadesi, a array'inin ilk iki satırını (0 ve 1. satırlar) \n",
    "# -- ve ilk üç sütununu (0, 1 ve 2. sütunlar) seçmek anlamına gelir."
   ]
  },
  {
   "cell_type": "markdown",
   "id": "3273ecdd-c001-49cf-b5a8-d301b7573af8",
   "metadata": {},
   "source": [
    "Buna göre, a[:2, :3] kodunun çıktısı:\n",
    "\n",
    "array([[4, 7, 4],\n",
    "       [2, 5, 0]])\n"
   ]
  },
  {
   "cell_type": "markdown",
   "id": "0eced6e7-6b59-4540-a1ff-eaddcf51807d",
   "metadata": {},
   "source": [
    "----------------------------------------------------------------------------------------------------------------"
   ]
  },
  {
   "cell_type": "code",
   "execution_count": 22,
   "id": "0a81b7c1-9aa3-42d7-a92f-8edfcb40f524",
   "metadata": {},
   "outputs": [
    {
     "data": {
      "text/plain": [
       "array([3.14, 4.  , 6.  , 1.2 ])"
      ]
     },
     "execution_count": 22,
     "metadata": {},
     "output_type": "execute_result"
    }
   ],
   "source": [
    "np.array([3.14, 4,6,1.2]) # çıktısı nedir?"
   ]
  },
  {
   "cell_type": "markdown",
   "id": "32938424-0b76-4820-9d6b-8dadce46ce9f",
   "metadata": {},
   "source": [
    "----------------------------------------------------------------------------------------------------------------"
   ]
  },
  {
   "cell_type": "markdown",
   "id": "e29dd777-c0f8-4cd3-ad76-34112392e25c",
   "metadata": {},
   "source": [
    "# Soru 3"
   ]
  },
  {
   "cell_type": "markdown",
   "id": "fe124056-786c-4747-84b3-7fee312403c0",
   "metadata": {},
   "source": [
    "Aşağıda “a” ismindeki bir array’in çıktısı verilmiştir. Buna göre yazılan kodun çıktısı hangisidir?\n",
    "\n",
    " \n",
    "\n",
    "Çıktı:\n",
    "\n",
    "array([[4, 7, 4, 5, 9],\n",
    "\n",
    "       [2, 5, 0, 7, 7],\n",
    "\n",
    "       [1, 9, 0, 8, 2]])\n",
    "\n",
    "\n",
    "\n",
    "Kod:\n",
    "\n",
    "a[2,3]"
   ]
  },
  {
   "cell_type": "markdown",
   "id": "7c263a51-5bd1-4edd-8ce9-4ce04d0c73c4",
   "metadata": {},
   "source": [
    "## Çözüm"
   ]
  },
  {
   "cell_type": "markdown",
   "id": "32a1f94a-6ea4-4d55-b378-2e4649adff86",
   "metadata": {},
   "source": [
    "8"
   ]
  },
  {
   "cell_type": "markdown",
   "id": "063a18b7-3083-4a9c-8ba6-0feeab5c48c0",
   "metadata": {},
   "source": [
    "----------------------------------------------------------------------------------------------------------------"
   ]
  },
  {
   "cell_type": "markdown",
   "id": "13086e69-6e86-4929-a024-442316c7360b",
   "metadata": {},
   "source": [
    "# Soru 4"
   ]
  },
  {
   "cell_type": "markdown",
   "id": "9818f055-4e43-43a6-b1c8-6db074c609ed",
   "metadata": {},
   "source": [
    "Aşağıdaki çıktıyı üretmek için hangi kod yazılmalıdır?\n",
    " \n",
    "\n",
    "array([[1., 1., 1.],\n",
    "\n",
    "       [1., 1., 1.]])"
   ]
  },
  {
   "cell_type": "markdown",
   "id": "52531336-e92e-4658-ab3b-5ef86b4c50ba",
   "metadata": {},
   "source": [
    "## Çözüm"
   ]
  },
  {
   "cell_type": "code",
   "execution_count": 42,
   "id": "dd270475-2b2c-468b-8049-d117d41b5565",
   "metadata": {},
   "outputs": [
    {
     "data": {
      "text/plain": [
       "array([[1., 1., 1.],\n",
       "       [1., 1., 1.]])"
      ]
     },
     "execution_count": 42,
     "metadata": {},
     "output_type": "execute_result"
    }
   ],
   "source": [
    "array = np.ones((2, 3)) \n",
    "# 2x3 boyutunda ve tüm elemanları 1.0 olan bir array oluşturma\n",
    "array"
   ]
  },
  {
   "cell_type": "markdown",
   "id": "f95e940b-2efc-4ccc-808c-739375c88a14",
   "metadata": {},
   "source": [
    "----------------------------------------------------------------------------------------------------------------"
   ]
  },
  {
   "cell_type": "markdown",
   "id": "8d0437f9-629d-427e-a9da-fd71d26d1df2",
   "metadata": {},
   "source": [
    "# Soru 5"
   ]
  },
  {
   "cell_type": "markdown",
   "id": "4bd3ee42-78c6-4b40-a0e7-644fd7b7dfa6",
   "metadata": {},
   "source": [
    "Bir numpy array’nin alt kümesi üzerinde işlem yaparken alt küme üzerinde yapılan değişikliklerin array’in ilk halinden bağımsız olması için hangi fonksiyon kullanılır?"
   ]
  },
  {
   "cell_type": "markdown",
   "id": "c0e9dffd-118b-4a89-8c8c-68d224ce55a1",
   "metadata": {},
   "source": [
    "## Çözüm"
   ]
  },
  {
   "cell_type": "markdown",
   "id": "e7a5e18a-7ca5-4bc2-bbab-32211addbe93",
   "metadata": {},
   "source": [
    "copy()"
   ]
  },
  {
   "cell_type": "markdown",
   "id": "79072cba-83a7-4bf1-a634-a6b6435bc627",
   "metadata": {},
   "source": [
    "----------------------------------------------------------------------------------------------------------------"
   ]
  },
  {
   "cell_type": "markdown",
   "id": "1aef88a0-9b11-4c88-846c-7c39b6af3263",
   "metadata": {},
   "source": [
    "# Soru 6"
   ]
  },
  {
   "cell_type": "markdown",
   "id": "46da866a-e3dc-4581-8c08-01527ca9c9c5",
   "metadata": {},
   "source": [
    "Aşağıda \"v\" ismindeki bir array'in çıktısı verilmiştir. Buna göre yazılan kodun çıktısı nedir?\n",
    "\n",
    "Çıktı:\n",
    "\n",
    "array([ 0, 3, 6, 9, 12, 15, 18, 21, 24, 27])\n",
    "\n",
    "Kod:\n",
    "\n",
    "[v[1], v[3]]"
   ]
  },
  {
   "cell_type": "markdown",
   "id": "28405d6f-597f-42e7-a1f5-0a96a86e2bef",
   "metadata": {},
   "source": [
    "## Çözüm"
   ]
  },
  {
   "cell_type": "code",
   "execution_count": 60,
   "id": "f226bacb-6f46-41b6-a5c9-ab1196e78eb9",
   "metadata": {},
   "outputs": [],
   "source": [
    "b = np.arange(0,30,3)"
   ]
  },
  {
   "cell_type": "code",
   "execution_count": 62,
   "id": "12d6c2d2-c4ae-4e65-8e4b-f7b07689794c",
   "metadata": {},
   "outputs": [
    {
     "data": {
      "text/plain": [
       "array([ 0,  3,  6,  9, 12, 15, 18, 21, 24, 27])"
      ]
     },
     "execution_count": 62,
     "metadata": {},
     "output_type": "execute_result"
    }
   ],
   "source": [
    "b"
   ]
  },
  {
   "cell_type": "code",
   "execution_count": 64,
   "id": "f8a5f49f-0deb-4d80-b865-602999be815a",
   "metadata": {},
   "outputs": [
    {
     "data": {
      "text/plain": [
       "[3, 9]"
      ]
     },
     "execution_count": 64,
     "metadata": {},
     "output_type": "execute_result"
    }
   ],
   "source": [
    "[b[1], b[3]]"
   ]
  },
  {
   "cell_type": "markdown",
   "id": "733669cd-653f-448f-b866-9fed0ccda244",
   "metadata": {},
   "source": [
    "----------------------------------------------------------------------------------------------------------------"
   ]
  },
  {
   "cell_type": "markdown",
   "id": "d1290107-df20-4e3b-8ce4-037c55042812",
   "metadata": {},
   "source": [
    "# Soru 7"
   ]
  },
  {
   "cell_type": "markdown",
   "id": "8833df3d-abe7-47b7-bb65-e074cc2dc63f",
   "metadata": {},
   "source": [
    "Aşağıda \"v\" ismindeki bir array'in çıktısı verilmiştir. Buna göre yazılan kodun çıktısı nedir?\n",
    "\n",
    "Çıktı:\n",
    "\n",
    "array([ 0, 3, 6, 9, 12, 15, 18, 21, 24, 27])\n",
    "\n",
    "Kod:\n",
    "\n",
    "[v[9], v[0]]"
   ]
  },
  {
   "cell_type": "markdown",
   "id": "eecc58f9-6ed4-41b9-9b38-24be1684fafd",
   "metadata": {},
   "source": [
    "## Çözüm"
   ]
  },
  {
   "cell_type": "code",
   "execution_count": 80,
   "id": "a9665c06-162b-4cf0-851d-3a98c3e0037c",
   "metadata": {},
   "outputs": [
    {
     "data": {
      "text/plain": [
       "array([ 0,  3,  6,  9, 12, 15, 18, 21, 24, 27])"
      ]
     },
     "execution_count": 80,
     "metadata": {},
     "output_type": "execute_result"
    }
   ],
   "source": [
    "c = np.arange(0,30,3)\n",
    "c"
   ]
  },
  {
   "cell_type": "code",
   "execution_count": 82,
   "id": "9518cb16-4774-47ee-af15-f41cd2dd73a7",
   "metadata": {},
   "outputs": [
    {
     "data": {
      "text/plain": [
       "[27, 0]"
      ]
     },
     "execution_count": 82,
     "metadata": {},
     "output_type": "execute_result"
    }
   ],
   "source": [
    "[c[9], c[0]]"
   ]
  },
  {
   "cell_type": "markdown",
   "id": "cbd74978-f9b5-4472-9481-b6756402e483",
   "metadata": {},
   "source": [
    "----------------------------------------------------------------------------------------------------------------"
   ]
  },
  {
   "cell_type": "markdown",
   "id": "55266529-3656-4cd1-97ba-c1746da52977",
   "metadata": {},
   "source": [
    "# Soru 8"
   ]
  },
  {
   "cell_type": "markdown",
   "id": "17ed7ac3-444d-4efc-a09c-7a641d8bfd1f",
   "metadata": {},
   "source": [
    "Aşağıda verilen çıktının kodu hangisidir?\n",
    "\n",
    "array([1, 2, 3, 4, 5, 6, 7, 8, 9])"
   ]
  },
  {
   "cell_type": "markdown",
   "id": "8118e186-92b0-4f6e-89ba-22b105480a21",
   "metadata": {},
   "source": [
    "## Çözüm"
   ]
  },
  {
   "cell_type": "code",
   "execution_count": 95,
   "id": "12faa738-09a7-4dd9-be83-1f547fc44cd6",
   "metadata": {},
   "outputs": [
    {
     "data": {
      "text/plain": [
       "array([1, 2, 3, 4, 5, 6, 7, 8, 9])"
      ]
     },
     "execution_count": 95,
     "metadata": {},
     "output_type": "execute_result"
    }
   ],
   "source": [
    "np.arange(1,10)"
   ]
  },
  {
   "cell_type": "markdown",
   "id": "f071732e-b9a4-47f8-8ff1-a17710264faa",
   "metadata": {},
   "source": [
    "----------------------------------------------------------------------------------------------------------------"
   ]
  },
  {
   "cell_type": "markdown",
   "id": "778c1288-d9e0-4e96-b849-d617916490e1",
   "metadata": {},
   "source": [
    "# Soru 9"
   ]
  },
  {
   "cell_type": "markdown",
   "id": "1e8d6812-55d1-463b-b93b-746fb03686c0",
   "metadata": {},
   "source": [
    "Aşağıda “a” ismindeki bir array’in çıktısı verilmiştir. Buna göre yazılan kodun çıktısı hangisidir?\n",
    "\n",
    " \n",
    "\n",
    "Çıktı:\n",
    "\n",
    "array([[4, 0, 3, 0, 1],\n",
    "\n",
    "            [9, 6, 1, 5, 9],\n",
    "\n",
    "            [1, 9, 0, 8, 2]])\n",
    "\n",
    "\n",
    "\n",
    "Kod:\n",
    "\n",
    "a[0:1]"
   ]
  },
  {
   "cell_type": "markdown",
   "id": "8ad451b0-2c07-481b-9f53-87be9c269823",
   "metadata": {},
   "source": [
    "## Çözüm"
   ]
  },
  {
   "cell_type": "code",
   "execution_count": 106,
   "id": "86c858f1-d241-4ae3-b26d-15e27fda76d6",
   "metadata": {},
   "outputs": [],
   "source": [
    "# --- Kodda a[0:1] ifadesi kullanılmıştır. Bu ifade, array'in ilk satırını seçer. \n",
    "# --- Ancak dikkat edilmesi gereken nokta, slicing işlemi sonucu elde edilen alt kümenin bir dizi (array) şeklinde döneceğidir.\n",
    "\n",
    "# --- a[0:1] ifadesi, 0. indekste bulunan satırı seçer (yani ilk satırı), \n",
    "# --- ancak sonuçta bu, bir dizi olarak dönecektir."
   ]
  },
  {
   "cell_type": "code",
   "execution_count": 108,
   "id": "c92bc7f3-7e83-439c-8674-e4b6222ba84d",
   "metadata": {},
   "outputs": [],
   "source": [
    "# --- Sonuç olarak, kodun çıktısı şu şekilde olacaktır:\n",
    "# ---array([[4, 0, 3, 0, 1]])\n"
   ]
  }
 ],
 "metadata": {
  "kernelspec": {
   "display_name": "Python 3 (ipykernel)",
   "language": "python",
   "name": "python3"
  },
  "language_info": {
   "codemirror_mode": {
    "name": "ipython",
    "version": 3
   },
   "file_extension": ".py",
   "mimetype": "text/x-python",
   "name": "python",
   "nbconvert_exporter": "python",
   "pygments_lexer": "ipython3",
   "version": "3.12.4"
  }
 },
 "nbformat": 4,
 "nbformat_minor": 5
}
