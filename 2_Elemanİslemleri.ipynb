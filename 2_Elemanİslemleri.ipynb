{
 "cells": [
  {
   "cell_type": "markdown",
   "id": "ef59cc17-40ef-4509-93ea-cf90a6cb0efd",
   "metadata": {},
   "source": [
    "# Index ile Elemanlara Erişmek"
   ]
  },
  {
   "cell_type": "code",
   "execution_count": 3,
   "id": "47c94f7c-cc31-4238-a745-7e8f2c215abe",
   "metadata": {},
   "outputs": [
    {
     "data": {
      "text/plain": [
       "array([0, 3, 5, 6, 5, 0, 2, 5, 4, 2])"
      ]
     },
     "execution_count": 3,
     "metadata": {},
     "output_type": "execute_result"
    }
   ],
   "source": [
    "import numpy as np\n",
    "a = np.random.randint(10, size = 10)\n",
    "a"
   ]
  },
  {
   "cell_type": "code",
   "execution_count": 5,
   "id": "064f55ab-6004-4535-9678-a0f2699c6873",
   "metadata": {},
   "outputs": [
    {
     "data": {
      "text/plain": [
       "0"
      ]
     },
     "execution_count": 5,
     "metadata": {},
     "output_type": "execute_result"
    }
   ],
   "source": [
    "a[0]"
   ]
  },
  {
   "cell_type": "code",
   "execution_count": 7,
   "id": "8671c9e1-5c03-42c8-beb4-bc1e7975d0b0",
   "metadata": {},
   "outputs": [
    {
     "data": {
      "text/plain": [
       "2"
      ]
     },
     "execution_count": 7,
     "metadata": {},
     "output_type": "execute_result"
    }
   ],
   "source": [
    "a[-1]"
   ]
  },
  {
   "cell_type": "code",
   "execution_count": 9,
   "id": "c8df6ea8-d4db-4f51-9662-d01d46569bd2",
   "metadata": {},
   "outputs": [],
   "source": [
    "a[0] = 100"
   ]
  },
  {
   "cell_type": "code",
   "execution_count": 11,
   "id": "acbd567c-4647-4ace-909c-5030c4a7e690",
   "metadata": {},
   "outputs": [
    {
     "data": {
      "text/plain": [
       "array([100,   3,   5,   6,   5,   0,   2,   5,   4,   2])"
      ]
     },
     "execution_count": 11,
     "metadata": {},
     "output_type": "execute_result"
    }
   ],
   "source": [
    "a"
   ]
  },
  {
   "cell_type": "markdown",
   "id": "865acf9a-f3d9-4c3c-b526-2ac25c618178",
   "metadata": {},
   "source": [
    "# 2 Boyutlu Array'de Index ile Elemana Erişme"
   ]
  },
  {
   "cell_type": "code",
   "execution_count": 14,
   "id": "47287e94-589b-4d1d-815e-d0d04d33b3ee",
   "metadata": {},
   "outputs": [
    {
     "data": {
      "text/plain": [
       "array([[8, 6, 3, 9, 2],\n",
       "       [2, 8, 9, 6, 3],\n",
       "       [5, 5, 0, 5, 0]])"
      ]
     },
     "execution_count": 14,
     "metadata": {},
     "output_type": "execute_result"
    }
   ],
   "source": [
    "b = np.random.randint(10, size = (3,5))\n",
    "b"
   ]
  },
  {
   "cell_type": "code",
   "execution_count": 16,
   "id": "17ef334e-53fd-41a7-a604-66390f431151",
   "metadata": {},
   "outputs": [
    {
     "data": {
      "text/plain": [
       "8"
      ]
     },
     "execution_count": 16,
     "metadata": {},
     "output_type": "execute_result"
    }
   ],
   "source": [
    "b[0,0]"
   ]
  },
  {
   "cell_type": "code",
   "execution_count": 22,
   "id": "f839e745-904d-444e-b6d6-25eaa98d33b0",
   "metadata": {},
   "outputs": [
    {
     "data": {
      "text/plain": [
       "9"
      ]
     },
     "execution_count": 22,
     "metadata": {},
     "output_type": "execute_result"
    }
   ],
   "source": [
    "b[1,2] # 1. satır, 2. sütun"
   ]
  },
  {
   "cell_type": "code",
   "execution_count": 24,
   "id": "0b7955fe-3db1-400b-9e39-3ac05db072b7",
   "metadata": {},
   "outputs": [],
   "source": [
    "b[1,2] = 99"
   ]
  },
  {
   "cell_type": "code",
   "execution_count": 28,
   "id": "64b10ce3-50d5-4fb3-b88c-143ae52dd87c",
   "metadata": {},
   "outputs": [
    {
     "data": {
      "text/plain": [
       "array([[ 8,  6,  3,  9,  2],\n",
       "       [ 2,  8, 99,  6,  3],\n",
       "       [ 5,  5,  0,  5,  0]])"
      ]
     },
     "execution_count": 28,
     "metadata": {},
     "output_type": "execute_result"
    }
   ],
   "source": [
    "b"
   ]
  },
  {
   "cell_type": "code",
   "execution_count": 30,
   "id": "86e7887b-5c65-4bb5-8bae-58b53dc2d525",
   "metadata": {},
   "outputs": [],
   "source": [
    "b [1,4] = 2.2"
   ]
  },
  {
   "cell_type": "code",
   "execution_count": 32,
   "id": "1b3b7365-f418-4eda-9a88-30888dc7ff42",
   "metadata": {},
   "outputs": [
    {
     "data": {
      "text/plain": [
       "array([[ 8,  6,  3,  9,  2],\n",
       "       [ 2,  8, 99,  6,  2],\n",
       "       [ 5,  5,  0,  5,  0]])"
      ]
     },
     "execution_count": 32,
     "metadata": {},
     "output_type": "execute_result"
    }
   ],
   "source": [
    "b"
   ]
  },
  {
   "cell_type": "code",
   "execution_count": 34,
   "id": "02742d8a-bb40-4663-aa5d-0bcdb89bfe60",
   "metadata": {},
   "outputs": [],
   "source": [
    "# 2.2 olarak değil, 2 olarak girdi. farklı tip giremez."
   ]
  },
  {
   "cell_type": "markdown",
   "id": "6b05e047-344b-46c2-9843-1da5ed7dc233",
   "metadata": {},
   "source": []
  },
  {
   "cell_type": "markdown",
   "id": "4bb2b2ef-2c3d-4d22-8240-9d65e9b87bf3",
   "metadata": {},
   "source": []
  },
  {
   "cell_type": "markdown",
   "id": "594a7239-95e6-4dd0-87d2-7bb8bbe563d4",
   "metadata": {},
   "source": [
    "# Slicing ile Elemanlara Erişmek (Array Alt Kümesine Erişmek)"
   ]
  },
  {
   "cell_type": "code",
   "execution_count": 52,
   "id": "b779d90a-347c-4fa9-9414-7a628b355d84",
   "metadata": {},
   "outputs": [],
   "source": [
    "import numpy as np"
   ]
  },
  {
   "cell_type": "code",
   "execution_count": 54,
   "id": "eb7b2744-5eba-40d2-ad5d-e723809fe8c6",
   "metadata": {},
   "outputs": [
    {
     "data": {
      "text/plain": [
       "array([20, 21, 22, 23, 24, 25, 26, 27, 28, 29])"
      ]
     },
     "execution_count": 54,
     "metadata": {},
     "output_type": "execute_result"
    }
   ],
   "source": [
    "c = np.arange(20,30)\n",
    "c"
   ]
  },
  {
   "cell_type": "code",
   "execution_count": 56,
   "id": "f7dcc0d3-5d3c-47bb-b3f2-c3418cac1cf9",
   "metadata": {},
   "outputs": [
    {
     "data": {
      "text/plain": [
       "array([20, 21, 22])"
      ]
     },
     "execution_count": 56,
     "metadata": {},
     "output_type": "execute_result"
    }
   ],
   "source": [
    "c[0:3]"
   ]
  },
  {
   "cell_type": "code",
   "execution_count": 58,
   "id": "a290b3a9-fc54-43e8-9694-d1c6bc8a9000",
   "metadata": {},
   "outputs": [
    {
     "data": {
      "text/plain": [
       "array([20, 21, 22])"
      ]
     },
     "execution_count": 58,
     "metadata": {},
     "output_type": "execute_result"
    }
   ],
   "source": [
    "c[:3]"
   ]
  },
  {
   "cell_type": "code",
   "execution_count": 60,
   "id": "0e042e32-0a11-42fc-9904-d9e71c703d83",
   "metadata": {},
   "outputs": [
    {
     "data": {
      "text/plain": [
       "array([23, 24, 25, 26, 27, 28, 29])"
      ]
     },
     "execution_count": 60,
     "metadata": {},
     "output_type": "execute_result"
    }
   ],
   "source": [
    "c[3:]"
   ]
  },
  {
   "cell_type": "code",
   "execution_count": 62,
   "id": "7278664a-0897-41c3-a793-d15ec5f7b09c",
   "metadata": {},
   "outputs": [
    {
     "data": {
      "text/plain": [
       "array([21, 23, 25, 27, 29])"
      ]
     },
     "execution_count": 62,
     "metadata": {},
     "output_type": "execute_result"
    }
   ],
   "source": [
    "c[1::2]"
   ]
  },
  {
   "cell_type": "markdown",
   "id": "845c98a9-1f86-4838-bd6c-2a8bf613b5bf",
   "metadata": {},
   "source": [
    "# 2 Boyutlu Slice İşlemleri"
   ]
  },
  {
   "cell_type": "code",
   "execution_count": 65,
   "id": "fa69f80e-9d3f-4232-bceb-ee8892bb7759",
   "metadata": {},
   "outputs": [],
   "source": [
    "d = np.random.randint(10, size = (5,5))"
   ]
  },
  {
   "cell_type": "code",
   "execution_count": 67,
   "id": "7c1ca225-d8ce-4120-9bf9-7cec82b00f7c",
   "metadata": {},
   "outputs": [
    {
     "data": {
      "text/plain": [
       "array([[2, 4, 3, 2, 6],\n",
       "       [0, 4, 2, 4, 8],\n",
       "       [9, 1, 8, 1, 2],\n",
       "       [5, 5, 8, 6, 9],\n",
       "       [6, 7, 8, 2, 4]])"
      ]
     },
     "execution_count": 67,
     "metadata": {},
     "output_type": "execute_result"
    }
   ],
   "source": [
    "d"
   ]
  },
  {
   "cell_type": "code",
   "execution_count": 69,
   "id": "c70c6fe6-74c4-4f07-899c-f7866023ba14",
   "metadata": {},
   "outputs": [
    {
     "data": {
      "text/plain": [
       "array([2, 0, 9, 5, 6])"
      ]
     },
     "execution_count": 69,
     "metadata": {},
     "output_type": "execute_result"
    }
   ],
   "source": [
    "d[:,0] # 0. sütunun tüm elemanlarına eriştik"
   ]
  },
  {
   "cell_type": "code",
   "execution_count": 71,
   "id": "62742b35-2251-417c-82cb-efd0e18b485e",
   "metadata": {},
   "outputs": [
    {
     "data": {
      "text/plain": [
       "array([4, 4, 1, 5, 7])"
      ]
     },
     "execution_count": 71,
     "metadata": {},
     "output_type": "execute_result"
    }
   ],
   "source": [
    "d[:,1] # 1. sütunun tüm elemanlarına eriştik"
   ]
  },
  {
   "cell_type": "code",
   "execution_count": 73,
   "id": "c21999df-1238-4b56-99e2-5806c9f9a766",
   "metadata": {},
   "outputs": [
    {
     "data": {
      "text/plain": [
       "array([6, 8, 2, 9, 4])"
      ]
     },
     "execution_count": 73,
     "metadata": {},
     "output_type": "execute_result"
    }
   ],
   "source": [
    "d[:,4]"
   ]
  },
  {
   "cell_type": "code",
   "execution_count": 75,
   "id": "0924a857-dbb7-467c-bd27-94c2d8bc1467",
   "metadata": {},
   "outputs": [
    {
     "data": {
      "text/plain": [
       "array([2, 4, 3, 2, 6])"
      ]
     },
     "execution_count": 75,
     "metadata": {},
     "output_type": "execute_result"
    }
   ],
   "source": [
    "d[0, :] # 0. satırın tüm elemanlarına eriştik"
   ]
  },
  {
   "cell_type": "code",
   "execution_count": 79,
   "id": "49907e95-61f5-416a-bb00-35abf48c8b31",
   "metadata": {},
   "outputs": [
    {
     "data": {
      "text/plain": [
       "array([2, 4, 3, 2, 6])"
      ]
     },
     "execution_count": 79,
     "metadata": {},
     "output_type": "execute_result"
    }
   ],
   "source": [
    "d[0] # 0. satırın tüm elemanlarına eriştik"
   ]
  },
  {
   "cell_type": "code",
   "execution_count": 83,
   "id": "00a2f992-9f9b-4cc8-824d-8b16d0db0106",
   "metadata": {},
   "outputs": [
    {
     "data": {
      "text/plain": [
       "array([0, 4, 2, 4, 8])"
      ]
     },
     "execution_count": 83,
     "metadata": {},
     "output_type": "execute_result"
    }
   ],
   "source": [
    "d[1, :] # 1. satırın tüm elemanlarına eriştik"
   ]
  },
  {
   "cell_type": "code",
   "execution_count": 85,
   "id": "015d23b9-7593-416f-9640-04d6144aafbf",
   "metadata": {},
   "outputs": [
    {
     "data": {
      "text/plain": [
       "array([[2, 4, 3],\n",
       "       [0, 4, 2]])"
      ]
     },
     "execution_count": 85,
     "metadata": {},
     "output_type": "execute_result"
    }
   ],
   "source": [
    "d[0:2, 0:3] # 0'dan 2'ye kadar satırlar, 0'dan 3'e kadar sütunları al"
   ]
  },
  {
   "cell_type": "code",
   "execution_count": 89,
   "id": "d2cc07f9-a81c-47be-acee-4ad461be22ab",
   "metadata": {},
   "outputs": [
    {
     "data": {
      "text/plain": [
       "array([[2, 4],\n",
       "       [0, 4],\n",
       "       [9, 1],\n",
       "       [5, 5],\n",
       "       [6, 7]])"
      ]
     },
     "execution_count": 89,
     "metadata": {},
     "output_type": "execute_result"
    }
   ],
   "source": [
    "d[::, 0:2]"
   ]
  },
  {
   "cell_type": "code",
   "execution_count": 93,
   "id": "4e3abe2b-3adb-49e4-bbce-abc7583c8bb3",
   "metadata": {},
   "outputs": [
    {
     "data": {
      "text/plain": [
       "array([[2, 4, 3, 2, 6],\n",
       "       [0, 4, 2, 4, 8],\n",
       "       [9, 1, 8, 1, 2],\n",
       "       [5, 5, 8, 6, 9],\n",
       "       [6, 7, 8, 2, 4]])"
      ]
     },
     "execution_count": 93,
     "metadata": {},
     "output_type": "execute_result"
    }
   ],
   "source": [
    "d"
   ]
  },
  {
   "cell_type": "code",
   "execution_count": 95,
   "id": "cf25865a-12ee-4225-a0f0-729c4e17b767",
   "metadata": {},
   "outputs": [
    {
     "data": {
      "text/plain": [
       "array([[0, 4],\n",
       "       [9, 1]])"
      ]
     },
     "execution_count": 95,
     "metadata": {},
     "output_type": "execute_result"
    }
   ],
   "source": [
    "d[1:3, 0:2]"
   ]
  },
  {
   "cell_type": "markdown",
   "id": "4be25dc3-49df-49b0-95c4-1193f0e63841",
   "metadata": {},
   "source": []
  },
  {
   "cell_type": "markdown",
   "id": "daa70b90-504a-4384-a020-0a58dc66895f",
   "metadata": {},
   "source": []
  },
  {
   "cell_type": "markdown",
   "id": "fcc51cd5-a419-45fd-be34-1915ebb772d1",
   "metadata": {},
   "source": [
    "# Alt Küme Üzerinde İşlem Yapmak"
   ]
  },
  {
   "cell_type": "code",
   "execution_count": 100,
   "id": "73bef57f-f2d6-49db-92ce-c45c1ac5da50",
   "metadata": {},
   "outputs": [
    {
     "data": {
      "text/plain": [
       "array([[4, 4, 9, 5, 4],\n",
       "       [8, 3, 9, 4, 3],\n",
       "       [8, 0, 2, 0, 8],\n",
       "       [4, 6, 6, 7, 6],\n",
       "       [8, 4, 3, 0, 5]])"
      ]
     },
     "execution_count": 100,
     "metadata": {},
     "output_type": "execute_result"
    }
   ],
   "source": [
    "import numpy as np\n",
    "e = np.random.randint(10, size = (5,5))\n",
    "e"
   ]
  },
  {
   "cell_type": "code",
   "execution_count": 102,
   "id": "c53dc682-124b-442b-a023-caf44803ac20",
   "metadata": {},
   "outputs": [
    {
     "data": {
      "text/plain": [
       "array([[4, 4],\n",
       "       [8, 3],\n",
       "       [8, 0]])"
      ]
     },
     "execution_count": 102,
     "metadata": {},
     "output_type": "execute_result"
    }
   ],
   "source": [
    "altKume = e[0:3, 0:2]\n",
    "altKume"
   ]
  },
  {
   "cell_type": "code",
   "execution_count": 104,
   "id": "2b37e3fb-a8e1-469e-87ac-2036efa0f9bd",
   "metadata": {},
   "outputs": [],
   "source": [
    "altKume[0,0] = 99999\n",
    "altKume[1,1] = 888"
   ]
  },
  {
   "cell_type": "code",
   "execution_count": 108,
   "id": "15d89e83-13c5-42e9-86a9-8e8febf02735",
   "metadata": {},
   "outputs": [
    {
     "data": {
      "text/plain": [
       "array([[99999,     4],\n",
       "       [    8,   888],\n",
       "       [    8,     0]])"
      ]
     },
     "execution_count": 108,
     "metadata": {},
     "output_type": "execute_result"
    }
   ],
   "source": [
    "altKume"
   ]
  },
  {
   "cell_type": "code",
   "execution_count": 110,
   "id": "12cbde83-5d6f-4b5a-9dab-94e555077074",
   "metadata": {},
   "outputs": [
    {
     "data": {
      "text/plain": [
       "array([[99999,     4,     9,     5,     4],\n",
       "       [    8,   888,     9,     4,     3],\n",
       "       [    8,     0,     2,     0,     8],\n",
       "       [    4,     6,     6,     7,     6],\n",
       "       [    8,     4,     3,     0,     5]])"
      ]
     },
     "execution_count": 110,
     "metadata": {},
     "output_type": "execute_result"
    }
   ],
   "source": [
    "e"
   ]
  },
  {
   "cell_type": "code",
   "execution_count": 2,
   "id": "243cd8c8-2f8a-494e-8cdb-b973847d75c2",
   "metadata": {},
   "outputs": [],
   "source": [
    "# Asıl array bozuldu ^^"
   ]
  },
  {
   "cell_type": "code",
   "execution_count": 114,
   "id": "3549a7e2-be21-4e81-a1e8-1b9ae0c82d58",
   "metadata": {},
   "outputs": [
    {
     "data": {
      "text/plain": [
       "array([[7, 5, 0, 4, 2],\n",
       "       [1, 6, 5, 3, 7],\n",
       "       [5, 5, 2, 9, 0],\n",
       "       [1, 0, 1, 1, 1],\n",
       "       [7, 5, 3, 8, 9]])"
      ]
     },
     "execution_count": 114,
     "metadata": {},
     "output_type": "execute_result"
    }
   ],
   "source": [
    "f = np.random.randint(10, size = (5,5))\n",
    "f"
   ]
  },
  {
   "cell_type": "code",
   "execution_count": 118,
   "id": "911b3d49-d6e9-409a-a7c9-576c9a944b78",
   "metadata": {},
   "outputs": [
    {
     "data": {
      "text/plain": [
       "array([[7, 5],\n",
       "       [1, 6],\n",
       "       [5, 5]])"
      ]
     },
     "execution_count": 118,
     "metadata": {},
     "output_type": "execute_result"
    }
   ],
   "source": [
    "altKume2 = f[0:3, 0:2].copy()\n",
    "altKume2"
   ]
  },
  {
   "cell_type": "code",
   "execution_count": 120,
   "id": "92cb9805-608a-4f65-bfe1-e1134c88dae5",
   "metadata": {},
   "outputs": [],
   "source": [
    "altKume2[0,0] = 571"
   ]
  },
  {
   "cell_type": "code",
   "execution_count": 122,
   "id": "4c5cb6e3-64dc-45f9-9c06-c3502f297f99",
   "metadata": {},
   "outputs": [
    {
     "data": {
      "text/plain": [
       "array([[571,   5],\n",
       "       [  1,   6],\n",
       "       [  5,   5]])"
      ]
     },
     "execution_count": 122,
     "metadata": {},
     "output_type": "execute_result"
    }
   ],
   "source": [
    "altKume2"
   ]
  },
  {
   "cell_type": "code",
   "execution_count": 124,
   "id": "0c2f5bd2-3e8d-4c09-a4d8-bfc32a1ca2cf",
   "metadata": {},
   "outputs": [
    {
     "data": {
      "text/plain": [
       "array([[7, 5, 0, 4, 2],\n",
       "       [1, 6, 5, 3, 7],\n",
       "       [5, 5, 2, 9, 0],\n",
       "       [1, 0, 1, 1, 1],\n",
       "       [7, 5, 3, 8, 9]])"
      ]
     },
     "execution_count": 124,
     "metadata": {},
     "output_type": "execute_result"
    }
   ],
   "source": [
    "f"
   ]
  },
  {
   "cell_type": "code",
   "execution_count": 4,
   "id": "5396ec2a-a185-4970-bd8d-26709ec8589f",
   "metadata": {},
   "outputs": [],
   "source": [
    "# İlk array'de değişiklik olmadı ^^"
   ]
  },
  {
   "cell_type": "code",
   "execution_count": null,
   "id": "8febf1f8-9094-4341-a7f4-6caf32f72354",
   "metadata": {},
   "outputs": [],
   "source": []
  },
  {
   "cell_type": "code",
   "execution_count": null,
   "id": "16dc74b6-088c-4162-b315-e8522501cff2",
   "metadata": {},
   "outputs": [],
   "source": []
  },
  {
   "cell_type": "markdown",
   "id": "fc8edc46-6305-4c73-954b-a1cd1e1768ba",
   "metadata": {},
   "source": [
    "# Fancy Index ile Elemanlara Erişmek"
   ]
  },
  {
   "cell_type": "code",
   "execution_count": 129,
   "id": "09373016-3332-470d-b489-f939f1e10da9",
   "metadata": {},
   "outputs": [
    {
     "data": {
      "text/plain": [
       "array([ 0,  3,  6,  9, 12, 15, 18, 21, 24, 27])"
      ]
     },
     "execution_count": 129,
     "metadata": {},
     "output_type": "execute_result"
    }
   ],
   "source": [
    "import numpy as np\n",
    "x = np.arange(0, 30, 3)\n",
    "x"
   ]
  },
  {
   "cell_type": "code",
   "execution_count": 131,
   "id": "186054a6-f97b-49b7-afdb-3c86af56e821",
   "metadata": {},
   "outputs": [
    {
     "data": {
      "text/plain": [
       "3"
      ]
     },
     "execution_count": 131,
     "metadata": {},
     "output_type": "execute_result"
    }
   ],
   "source": [
    "x[1]"
   ]
  },
  {
   "cell_type": "code",
   "execution_count": 133,
   "id": "fc4648ee-2dae-4554-bbc6-22bea56b18f1",
   "metadata": {},
   "outputs": [
    {
     "data": {
      "text/plain": [
       "9"
      ]
     },
     "execution_count": 133,
     "metadata": {},
     "output_type": "execute_result"
    }
   ],
   "source": [
    "x[3]"
   ]
  },
  {
   "cell_type": "code",
   "execution_count": 135,
   "id": "21475085-f5f1-407b-92b2-9d15708a8b30",
   "metadata": {},
   "outputs": [
    {
     "data": {
      "text/plain": [
       "15"
      ]
     },
     "execution_count": 135,
     "metadata": {},
     "output_type": "execute_result"
    }
   ],
   "source": [
    "x[5]"
   ]
  },
  {
   "cell_type": "code",
   "execution_count": 137,
   "id": "b26d9832-6274-4af3-a41d-31f58937eed7",
   "metadata": {},
   "outputs": [
    {
     "data": {
      "text/plain": [
       "(3, 9, 15)"
      ]
     },
     "execution_count": 137,
     "metadata": {},
     "output_type": "execute_result"
    }
   ],
   "source": [
    "x[1], x[3], x[5]"
   ]
  },
  {
   "cell_type": "code",
   "execution_count": 139,
   "id": "1ec2f542-0a31-4d73-a792-72e21370ac66",
   "metadata": {},
   "outputs": [],
   "source": [
    "getir = [1,3,5] # fancy indexing ile belirli dizinlerdeki elemanlara erişmek için kullanılır."
   ]
  },
  {
   "cell_type": "code",
   "execution_count": 141,
   "id": "d2f25ebf-9faa-415d-a50b-18c14959a219",
   "metadata": {},
   "outputs": [
    {
     "data": {
      "text/plain": [
       "array([ 0,  3,  6,  9, 12, 15, 18, 21, 24, 27])"
      ]
     },
     "execution_count": 141,
     "metadata": {},
     "output_type": "execute_result"
    }
   ],
   "source": [
    "x"
   ]
  },
  {
   "cell_type": "code",
   "execution_count": 145,
   "id": "f6deec60-4467-4211-89aa-8f47b1c117c2",
   "metadata": {},
   "outputs": [
    {
     "data": {
      "text/plain": [
       "array([ 3,  9, 15])"
      ]
     },
     "execution_count": 145,
     "metadata": {},
     "output_type": "execute_result"
    }
   ],
   "source": [
    "x[getir] #  NumPy dizisi x'in 1., 3., ve 5. indekslerindeki elemanları seçer."
   ]
  },
  {
   "cell_type": "markdown",
   "id": "42f704ca-74dc-4bac-ab7e-339e37563975",
   "metadata": {},
   "source": [
    "# 2 Boyutta Fancy"
   ]
  },
  {
   "cell_type": "code",
   "execution_count": 148,
   "id": "34f5b7be-4a2b-4b15-8ca9-521164721d55",
   "metadata": {},
   "outputs": [],
   "source": [
    "y = np.arange(9).reshape((3,3))"
   ]
  },
  {
   "cell_type": "code",
   "execution_count": 150,
   "id": "1e0aa8ce-3237-47dd-8c0b-fcc99209c5f4",
   "metadata": {},
   "outputs": [
    {
     "data": {
      "text/plain": [
       "array([[0, 1, 2],\n",
       "       [3, 4, 5],\n",
       "       [6, 7, 8]])"
      ]
     },
     "execution_count": 150,
     "metadata": {},
     "output_type": "execute_result"
    }
   ],
   "source": [
    "y"
   ]
  },
  {
   "cell_type": "code",
   "execution_count": 154,
   "id": "7444adf5-55e4-43b1-84d7-2cb336edbb58",
   "metadata": {},
   "outputs": [],
   "source": [
    "satır = np.array([0,1])\n",
    "sütun = np.array([1,2])"
   ]
  },
  {
   "cell_type": "code",
   "execution_count": 156,
   "id": "c27c9b7c-43b7-4b9f-ba04-8a17cad7956a",
   "metadata": {},
   "outputs": [
    {
     "data": {
      "text/plain": [
       "array([1, 5])"
      ]
     },
     "execution_count": 156,
     "metadata": {},
     "output_type": "execute_result"
    }
   ],
   "source": [
    "y[satır, sütun]"
   ]
  },
  {
   "cell_type": "code",
   "execution_count": 158,
   "id": "c3246b1c-8f14-44bd-882d-72b66da24e08",
   "metadata": {},
   "outputs": [],
   "source": [
    "# basit index ile fancy index"
   ]
  },
  {
   "cell_type": "code",
   "execution_count": 160,
   "id": "a3d35851-edc2-4710-9477-8ca03acb47c1",
   "metadata": {},
   "outputs": [
    {
     "data": {
      "text/plain": [
       "array([[0, 1, 2],\n",
       "       [3, 4, 5],\n",
       "       [6, 7, 8]])"
      ]
     },
     "execution_count": 160,
     "metadata": {},
     "output_type": "execute_result"
    }
   ],
   "source": [
    "y"
   ]
  },
  {
   "cell_type": "code",
   "execution_count": 162,
   "id": "1a2c0678-a084-4869-bd87-68009d93d7e3",
   "metadata": {},
   "outputs": [
    {
     "data": {
      "text/plain": [
       "array([1, 2])"
      ]
     },
     "execution_count": 162,
     "metadata": {},
     "output_type": "execute_result"
    }
   ],
   "source": [
    "y[0, [1,2]]"
   ]
  },
  {
   "cell_type": "code",
   "execution_count": 164,
   "id": "1c31376f-b4a1-4503-b727-f0fb14c11364",
   "metadata": {},
   "outputs": [],
   "source": [
    "#slice ile fancy"
   ]
  },
  {
   "cell_type": "code",
   "execution_count": 168,
   "id": "7e5386d8-4c04-4da2-8e1c-3d925e9aed38",
   "metadata": {},
   "outputs": [
    {
     "data": {
      "text/plain": [
       "array([[1, 2],\n",
       "       [4, 5],\n",
       "       [7, 8]])"
      ]
     },
     "execution_count": 168,
     "metadata": {},
     "output_type": "execute_result"
    }
   ],
   "source": [
    "y[0: , [1,2]] # hem slice hem de fancy işlemi var"
   ]
  },
  {
   "cell_type": "markdown",
   "id": "cbc783f1-f1f9-4450-a0ae-b7f569cad6ad",
   "metadata": {},
   "source": []
  },
  {
   "cell_type": "markdown",
   "id": "668d2917-e377-4270-955c-ca993b1c45d1",
   "metadata": {},
   "source": []
  },
  {
   "cell_type": "markdown",
   "id": "6a986fca-bd99-4555-8e7f-ac5ca30022d5",
   "metadata": {},
   "source": [
    "# Koşullu Eleman İşlemleri"
   ]
  },
  {
   "cell_type": "code",
   "execution_count": 173,
   "id": "f484bf84-ccdc-474b-80f6-c62036d7b802",
   "metadata": {},
   "outputs": [],
   "source": [
    "import numpy as np\n",
    "z = np.array([1,2,3,4,5])"
   ]
  },
  {
   "cell_type": "code",
   "execution_count": 175,
   "id": "7a323560-dadc-4821-b863-ba4b899072ce",
   "metadata": {},
   "outputs": [
    {
     "data": {
      "text/plain": [
       "array([False, False, False, False, False])"
      ]
     },
     "execution_count": 175,
     "metadata": {},
     "output_type": "execute_result"
    }
   ],
   "source": [
    "z > 5 # her eleman için sorgular"
   ]
  },
  {
   "cell_type": "code",
   "execution_count": 177,
   "id": "1ece3f62-5a29-45a2-a66a-e842c284007d",
   "metadata": {},
   "outputs": [
    {
     "data": {
      "text/plain": [
       "array([ True,  True, False, False, False])"
      ]
     },
     "execution_count": 177,
     "metadata": {},
     "output_type": "execute_result"
    }
   ],
   "source": [
    "z < 3"
   ]
  },
  {
   "cell_type": "code",
   "execution_count": 179,
   "id": "79f06fb9-83d7-4523-98a9-907e2c722efc",
   "metadata": {},
   "outputs": [
    {
     "data": {
      "text/plain": [
       "array([1, 2])"
      ]
     },
     "execution_count": 179,
     "metadata": {},
     "output_type": "execute_result"
    }
   ],
   "source": [
    "z[z < 3] # True olanlar gelecek"
   ]
  },
  {
   "cell_type": "code",
   "execution_count": 183,
   "id": "819ff420-172c-41ba-9f28-e32477f7c130",
   "metadata": {},
   "outputs": [
    {
     "data": {
      "text/plain": [
       "array([5])"
      ]
     },
     "execution_count": 183,
     "metadata": {},
     "output_type": "execute_result"
    }
   ],
   "source": [
    "z[z >= 5]"
   ]
  },
  {
   "cell_type": "code",
   "execution_count": 185,
   "id": "84768f54-5711-44e9-9a30-ddd9850a1d51",
   "metadata": {},
   "outputs": [
    {
     "data": {
      "text/plain": [
       "array([2])"
      ]
     },
     "execution_count": 185,
     "metadata": {},
     "output_type": "execute_result"
    }
   ],
   "source": [
    "z[z == 2]"
   ]
  },
  {
   "cell_type": "code",
   "execution_count": 187,
   "id": "f064a256-7a72-4012-a0f0-acccc732d091",
   "metadata": {},
   "outputs": [
    {
     "data": {
      "text/plain": [
       "array([1, 3, 4, 5])"
      ]
     },
     "execution_count": 187,
     "metadata": {},
     "output_type": "execute_result"
    }
   ],
   "source": [
    "z[z != 2]"
   ]
  },
  {
   "cell_type": "code",
   "execution_count": 189,
   "id": "17999fc1-0627-4367-b391-2698ac5f4f09",
   "metadata": {},
   "outputs": [
    {
     "data": {
      "text/plain": [
       "array([ 2,  4,  6,  8, 10])"
      ]
     },
     "execution_count": 189,
     "metadata": {},
     "output_type": "execute_result"
    }
   ],
   "source": [
    "z * 2"
   ]
  },
  {
   "cell_type": "code",
   "execution_count": 191,
   "id": "1fd6b97f-1604-479e-9a63-ebe90228a8e2",
   "metadata": {},
   "outputs": [
    {
     "data": {
      "text/plain": [
       "array([0.2, 0.4, 0.6, 0.8, 1. ])"
      ]
     },
     "execution_count": 191,
     "metadata": {},
     "output_type": "execute_result"
    }
   ],
   "source": [
    "z / 5"
   ]
  },
  {
   "cell_type": "code",
   "execution_count": 193,
   "id": "c8c6a4de-1f42-4d6a-a8dd-9112edfa142e",
   "metadata": {},
   "outputs": [
    {
     "data": {
      "text/plain": [
       "array([0.5, 1. , 1.5, 2. , 2.5])"
      ]
     },
     "execution_count": 193,
     "metadata": {},
     "output_type": "execute_result"
    }
   ],
   "source": [
    "z*5/10"
   ]
  },
  {
   "cell_type": "code",
   "execution_count": 195,
   "id": "a8bba1e2-bd4f-4907-b351-155b18f56a70",
   "metadata": {},
   "outputs": [
    {
     "data": {
      "text/plain": [
       "array([ 1,  4,  9, 16, 25])"
      ]
     },
     "execution_count": 195,
     "metadata": {},
     "output_type": "execute_result"
    }
   ],
   "source": [
    "z ** 2"
   ]
  },
  {
   "cell_type": "code",
   "execution_count": null,
   "id": "561abcac-a7f1-40f6-aac5-7f39be63cd40",
   "metadata": {},
   "outputs": [],
   "source": []
  }
 ],
 "metadata": {
  "kernelspec": {
   "display_name": "Python 3 (ipykernel)",
   "language": "python",
   "name": "python3"
  },
  "language_info": {
   "codemirror_mode": {
    "name": "ipython",
    "version": 3
   },
   "file_extension": ".py",
   "mimetype": "text/x-python",
   "name": "python",
   "nbconvert_exporter": "python",
   "pygments_lexer": "ipython3",
   "version": "3.12.4"
  }
 },
 "nbformat": 4,
 "nbformat_minor": 5
}
